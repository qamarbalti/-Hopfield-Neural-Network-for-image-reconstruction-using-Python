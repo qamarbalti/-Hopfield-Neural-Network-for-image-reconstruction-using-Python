{
  "cells": [
    {
      "cell_type": "markdown",
      "metadata": {
        "id": "S-TsZLRFnOhL"
      },
      "source": [
        "In this problem, I have trained a Hopfield network using the attached image. Using the attached training image to train the network and then evaluated its performance employing the attached test image. To complete this task, I  have completed each cell step by step.\n",
        "\n",
        "\n"
      ]
    },
    {
      "cell_type": "code",
      "execution_count": 1,
      "metadata": {
        "id": "0AMvHdjHnPNR"
      },
      "outputs": [],
      "source": [
        "import numpy as np\n",
        "import random\n",
        "import PIL\n",
        "from PIL import Image\n",
        "import os\n",
        "import re\n",
        "import cv2\n",
        "from google.colab.patches import cv2_imshow"
      ]
    },
    {
      "cell_type": "code",
      "execution_count": 2,
      "metadata": {
        "id": "fVcKwIzM0LUQ"
      },
      "outputs": [],
      "source": [
        "#Convert a matrix to a vector\n",
        "def mat2vec(x):\n",
        "    \"\"\"convert the matrix x to a vector\n",
        "    input:\n",
        "        [[1,2,3],\n",
        "        [4,5,6],\n",
        "        [7,8,9]]\n",
        "    output:\n",
        "        [1,2,3,4,5,6,7,8,9]\"\"\"\n",
        "\n",
        "    #### Implement your code ###\n",
        "\n",
        "    tmp1 = list()\n",
        "    for i in range(len(x)):\n",
        "        for j in range(len(x[i])):\n",
        "            tmp1.append(x[i][j])\n",
        "\n",
        "\n",
        "    return tmp1"
      ]
    },
    {
      "cell_type": "code",
      "execution_count": 3,
      "metadata": {
        "id": "Kluvs_LM0shA"
      },
      "outputs": [],
      "source": [
        "def create_W(x):\n",
        "  \"\"\"\n",
        "  Create a square matrix with the same size as the input size.\n",
        "  Note 1: The weight matrix must be symmetric\n",
        "  Tip 1: For row i and column j, while i != j, place the value x [i] * x [j] in the weight matrix w [i, j]\n",
        "  Tip 2: For row i and column j, while i=j, put the value 0 in the weight matrix w [i, j]\n",
        "  \"\"\"\n",
        "  #### Impelement your code ###\n",
        "\n",
        "  length = len(x)\n",
        "  w = [[ 0 for j in range(length)]for i in range(length)]\n",
        "  for i in range(length):\n",
        "    for j in range(length):\n",
        "      if i != j :\n",
        "        w[i][j] = x[i] * x[j]\n",
        "\n",
        "  return w"
      ]
    },
    {
      "cell_type": "code",
      "execution_count": 4,
      "metadata": {
        "id": "OGaxLOt53Iog"
      },
      "outputs": [],
      "source": [
        "#Read an image file and convert it to a pattern of the image\n",
        "def readImg2array(file,size, threshold= 145):\n",
        "    img = Image.open(file).convert(mode=\"L\")\n",
        "    img= img.resize(size)\n",
        "    #img.thumbnail(size,Image.ANTIALIAS)\n",
        "    imgArray = np.asarray(img,dtype=np.uint8)\n",
        "    x = np.zeros(imgArray.shape, dtype = np.float64)\n",
        "\n",
        "    \"\"\"\n",
        "    Set the value to 1 for each pixel value with the larger than the threshold,\n",
        "    and Set the value to -1 for each image pixel with a value of 0.\n",
        "\n",
        "\n",
        "\n",
        "    \"\"\"\n",
        "    #### Implement your code ###\n",
        "\n",
        "    x[imgArray>threshold] = 1\n",
        "    x[x==0] = -1\n",
        "\n",
        "    return x"
      ]
    },
    {
      "cell_type": "code",
      "execution_count": 5,
      "metadata": {
        "id": "Vdj87wEq4T0v"
      },
      "outputs": [],
      "source": [
        "#Convert a numpy array to an image file like Jpeg\n",
        "def array2img(data, outFile = None):\n",
        "\n",
        "    #data is 1 or -1 matrix\n",
        "    y = np.zeros(data.shape,dtype=np.uint8)\n",
        "    y[data==1] = 255\n",
        "    y[data==-1] = 0\n",
        "    img = Image.fromarray(y,mode=\"L\")\n",
        "    if outFile is not None:\n",
        "        img.save(outFile)\n",
        "    return img"
      ]
    },
    {
      "cell_type": "code",
      "execution_count": 6,
      "metadata": {
        "id": "ivQi0cbZ4YT0"
      },
      "outputs": [],
      "source": [
        "#Update the test input pattern (y_vec) based on the weight matrix\n",
        "def update(w,y_vec,theta=0.5,time=100):\n",
        "\n",
        "  \"\"\"Once in a while, select a random number between 0 and the size of the input vector -1.\n",
        "Then use the random number line of the weight matrix to multiply internally by the input vector.\n",
        "Subtract the result from theta\n",
        "If the end result is greater than 0, enter a value of 1 in the input vector, otherwise replace -1.\n",
        "\"\"\"\n",
        "#### Impelement your code ###\n",
        "  for i in range(time):\n",
        "\n",
        "      # select random number between 0 and -1\n",
        "      rndm = random.randint(0,len(y_vec)-1)\n",
        "\n",
        "      # multiply random number of line  of weight matrix by the vector\n",
        "      rndm_mul = np.dot(w[rndm][:],y_vec)\n",
        "\n",
        "      # subtract from theta\n",
        "      result = rndm_mul - theta\n",
        "\n",
        "      # check condition\n",
        "      if result > 0:\n",
        "        y_vec[rndm] = 1\n",
        "\n",
        "      else:\n",
        "        y_vec[rndm] = -1\n",
        "\n",
        "\n",
        "\n",
        "  return y_vec"
      ]
    },
    {
      "cell_type": "code",
      "execution_count": 7,
      "metadata": {
        "id": "pxSyUwhC614R"
      },
      "outputs": [],
      "source": [
        "\n",
        "def hopfield(train_file, test_file, theta = 0.5, time = 1000, size = (100,100), threshold = 60):\n",
        "\n",
        "  \"\"\"Using the built-in functions, Do the following steps:\n",
        "1- Read the input image and extract its pattern\n",
        "2. Convert the obtained pattern into a vector\n",
        "3- Make a weight matrix based on the vector of the previous step\n",
        "4- Read the test image and extract its pattern\n",
        "5- Convert the test pattern into a vector and give it as the input of the update function along with the built-in weight matrix.\n",
        "\n",
        "\"\"\"\n",
        "#### Impelement your code ###\n",
        "\n",
        "  # step 1\n",
        "  train = readImg2array(\"/content/Train.png\", size, threshold)\n",
        "\n",
        "  # step 2\n",
        "  vector = mat2vec(train)\n",
        "\n",
        "  # step 3\n",
        "  weight = create_W(vector)\n",
        "\n",
        "  # step 4\n",
        "  test =  readImg2array(\"/content/Test.png\", size, threshold)\n",
        "\n",
        "  # step 5\n",
        "  y_vec = mat2vec(test)\n",
        "  y_vec_after = update(w = weight, y_vec = y_vec, theta = theta, time = time)\n",
        "  y_vec_after = np.array(y_vec_after).reshape(test.shape)\n",
        "  after_img = array2img(y_vec_after,outFile=None)\n",
        "  after_img.save(\"result.jpg\")\n",
        "  img = cv2.imread('result.jpg')\n",
        "  cv2_imshow(img)\n",
        ""
      ]
    },
    {
      "cell_type": "code",
      "execution_count": 8,
      "metadata": {
        "id": "Ru50z8cE9unG",
        "colab": {
          "base_uri": "https://localhost:8080/",
          "height": 117
        },
        "outputId": "0b23ece5-258c-492a-e97a-3da31906bf77"
      },
      "outputs": [
        {
          "output_type": "display_data",
          "data": {
            "text/plain": [
              "<PIL.Image.Image image mode=RGB size=100x100>"
            ],
            "image/png": "[encoded data removed]"
          },
          "metadata": {}
        }
      ],
      "source": [
        "train_file = cv2.imread('/content/Train.png')\n",
        "test_file =  cv2.imread('/content/Test.png')\n",
        "\n",
        "hopfield(train_file, test_file, theta=0.5,time=100,size=(100,100),threshold=60)\n"
      ]
    }
  ],
  "metadata": {
    "colab": {
      "provenance": []
    },
    "kernelspec": {
      "display_name": "Python 3.9.7 ('base')",
      "language": "python",
      "name": "python3"
    },
    "language_info": {
      "codemirror_mode": {
        "name": "ipython",
        "version": 3
      },
      "file_extension": ".py",
      "mimetype": "text/x-python",
      "name": "python",
      "nbconvert_exporter": "python",
      "pygments_lexer": "ipython3",
      "version": "3.9.7"
    },
    "vscode": {
      "interpreter": {
        "hash": "e0de548ffb181fe2a01b2ed5f402e6bb6e6ccf2641efffae0817d36d41e1e10e"
      }
    }
  },
  "nbformat": 4,
  "nbformat_minor": 0
}